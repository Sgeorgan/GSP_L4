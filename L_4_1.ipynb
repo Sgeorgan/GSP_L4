{
 "cells": [
  {
   "cell_type": "markdown",
   "id": "99c2770f-576f-4384-b4f8-edd761097ed6",
   "metadata": {},
   "source": [
    "### Overlay analysis"
   ]
  },
  {
   "cell_type": "markdown",
   "id": "f49e9eff-8eb4-44b2-9054-75d78e9ad9b7",
   "metadata": {},
   "source": [
    "Overlay analyses are [GIS operations](https://saylordotorg.github.io/text_essentials-of-geographic-information-systems/s11-02-multiple-layer-analysis.html) in which two or more vector layers are combined to produce new geometries. Typical overlay operations include [**union**](https://pro.arcgis.com/en/pro-app/latest/tool-reference/analysis/union.htm), [**intersection**](https://pro.arcgis.com/en/pro-app/latest/tool-reference/analysis/intersect.htm), and [**difference**](https://pro.arcgis.com/en/pro-app/latest/tool-reference/analysis/symmetrical-difference.htm) - named after the result of the combination of two layers. These operations are integral for spatial analysis, facilitating tasks such as optimal site selection or suitability modeling by applying a common scale of values to diverse inputs to create an [integrated analysis](https://pro.arcgis.com/en/pro-app/latest/tool-reference/spatial-analyst/understanding-overlay-analysis.htm).\n"
   ]
  },
  {
   "cell_type": "markdown",
   "id": "f8fa7c04-4a5f-48ef-b6ef-6728daa19d50",
   "metadata": {},
   "source": [
    "In this lecture we will how to:\n",
    "- create new geometries by adding, subtracting or intersecting two geometries,\n",
    "\n",
    "- combine geometries based on a common attribute (dissolving them),\n",
    "\n",
    "- create categories for numerical data based on classifiers such as natural breaks, equal interval, or quantiles, and\n",
    "\n",
    "- simplify geometries according to a maximum-error threshold"
   ]
  },
  {
   "cell_type": "markdown",
   "id": "e5778608-7189-4dac-98d7-5ee295c1319f",
   "metadata": {},
   "source": [
    "### Intersect\n",
    "\n",
    "![Alt text](https://pro.arcgis.com/en/pro-app/latest/tool-reference/analysis/GUID-93B78EC9-4024-43AC-87BF-765FAD873B00-web.gif)\n"
   ]
  },
  {
   "cell_type": "markdown",
   "id": "159db78f-728b-432c-9cbe-1294b429605c",
   "metadata": {},
   "source": [
    "Files used in this notebook: \n",
    "- A flood layer (100 year return period) from the Swedish Civil Protection Agency (https://www.msb.se/)\n",
    "- A land cover-land use layer of Värmland from the Swedish Cadastral Agency (https://www.lantmateriet.se/sv/geodata/)"
   ]
  },
  {
   "cell_type": "code",
   "execution_count": null,
   "id": "090939c5-5aeb-41d5-9f57-87583734d7d8",
   "metadata": {},
   "outputs": [],
   "source": [
    "import pathlib \n",
    "NOTEBOOK_PATH = pathlib.Path().resolve()\n",
    "DATA_DIRECTORY = NOTEBOOK_PATH / \"Data_L4\""
   ]
  },
  {
   "cell_type": "code",
   "execution_count": null,
   "id": "2eddd6e8-428c-4306-821f-2e14d21486d9",
   "metadata": {},
   "outputs": [],
   "source": [
    "import geopandas\n",
    "\n",
    "land_use = geopandas.read_file(\n",
    "    DATA_DIRECTORY\n",
    "    / \"land_use.shp\"\n",
    ")\n",
    "\n",
    "flooded_areas = geopandas.read_file(\n",
    "    DATA_DIRECTORY / \"flood_areas.shp\"\n",
    ")"
   ]
  },
  {
   "cell_type": "markdown",
   "id": "aeb96291-4826-4c61-a776-4f48ff877c25",
   "metadata": {},
   "source": [
    "In these type of analyses it is important that the layers are in the same projection system. Let's do a check to be sure."
   ]
  },
  {
   "cell_type": "code",
   "execution_count": null,
   "id": "f7ca449e-5688-46f5-8170-d30c331659fa",
   "metadata": {},
   "outputs": [],
   "source": [
    "# Check the CRS of the layers\n",
    "print(\"Population layer CRS:\", land_use.crs)\n",
    "print(\"Flooded area CRS:\", flood_areas.crs)"
   ]
  },
  {
   "cell_type": "code",
   "execution_count": null,
   "id": "376c026d-3b33-4064-b7f7-b490f63a5d77",
   "metadata": {},
   "outputs": [],
   "source": [
    "# in case layers are not in the same CRS, reproject\n",
    "land_use = land_use.to_crs(\"EPSG:3006\")"
   ]
  },
  {
   "cell_type": "code",
   "execution_count": null,
   "id": "6545310e-1c46-4665-8661-91d015b4bd2d",
   "metadata": {},
   "outputs": [],
   "source": [
    "# Plot the layers\n",
    "ax = land_use.plot(facecolor=\"gray\",column='KATEGORI')\n",
    "flood_areas.plot(ax=ax, facecolor=\"None\", edgecolor=\"blue\")"
   ]
  },
  {
   "cell_type": "code",
   "execution_count": null,
   "id": "2841e21c-9b24-4744-bfa6-27c0d0e4e40a",
   "metadata": {},
   "outputs": [],
   "source": [
    "flood_areas.head()"
   ]
  },
  {
   "cell_type": "code",
   "execution_count": null,
   "id": "bafae5d6-f1ea-4108-9c06-d0c0b9f8888e",
   "metadata": {},
   "outputs": [],
   "source": [
    "land_use.head()"
   ]
  },
  {
   "cell_type": "markdown",
   "id": "3c7afc22-bede-4f01-bb46-aa7cc6547255",
   "metadata": {},
   "source": [
    "We will create a new layer based on the flooded area polygons that intersect with the land use layer. Let's use the method `overlay()` of a `GeoDataFrame` to conduct the overlay analysis. This method takes as an input:\n",
    "\n",
    "1. A second `GeoDataFrame`, and\n",
    "2. A parameter `how` that can be used to control how the overlay analysis is conducted.\n",
    "\n",
    "The possible values for `how` are:\n",
    "\n",
    "- `intersection`\n",
    "- `union`\n",
    "- `symmetric_difference`\n",
    "- `difference`\n",
    "- `identity`\n"
   ]
  },
  {
   "cell_type": "code",
   "execution_count": null,
   "id": "21cf7e4a-2bc0-4d21-b3ae-1afb0e74be45",
   "metadata": {},
   "outputs": [],
   "source": [
    "intersection = flood_areas.overlay(land_use, how=\"intersection\")"
   ]
  },
  {
   "cell_type": "code",
   "execution_count": null,
   "id": "b92afa81-b7bb-4d80-9f2f-2aae6bccf5c7",
   "metadata": {},
   "outputs": [],
   "source": [
    "intersection.plot(color=\"b\")"
   ]
  },
  {
   "cell_type": "markdown",
   "id": "13486de9-dee0-4c0d-9608-fbfbd666882b",
   "metadata": {},
   "source": [
    "As a result, we now have only those land use layer areas that intersect with the flood zones. "
   ]
  },
  {
   "cell_type": "code",
   "execution_count": null,
   "id": "de75e29f-3f1a-4dd5-83b5-696a0181fd0e",
   "metadata": {},
   "outputs": [],
   "source": [
    "intersection.head()"
   ]
  },
  {
   "cell_type": "code",
   "execution_count": null,
   "id": "f8d2991d-ea2c-49d6-9de5-bd3eb2e343a1",
   "metadata": {},
   "outputs": [],
   "source": [
    "intersection.to_file(\n",
    "    DATA_DIRECTORY / \"intersection.shp\"\n",
    ")"
   ]
  },
  {
   "cell_type": "code",
   "execution_count": null,
   "id": "a72349db-3f05-446d-987b-0409a5cd0c5c",
   "metadata": {},
   "outputs": [],
   "source": []
  },
  {
   "cell_type": "code",
   "execution_count": null,
   "id": "485f4a35-f389-46a0-8ffd-22d31cbc37b9",
   "metadata": {},
   "outputs": [],
   "source": []
  }
 ],
 "metadata": {
  "kernelspec": {
   "display_name": "Python 3 (ipykernel)",
   "language": "python",
   "name": "python3"
  },
  "language_info": {
   "codemirror_mode": {
    "name": "ipython",
    "version": 3
   },
   "file_extension": ".py",
   "mimetype": "text/x-python",
   "name": "python",
   "nbconvert_exporter": "python",
   "pygments_lexer": "ipython3",
   "version": "3.11.8"
  }
 },
 "nbformat": 4,
 "nbformat_minor": 5
}
