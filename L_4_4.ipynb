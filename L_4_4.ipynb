{
 "cells": [
  {
   "cell_type": "markdown",
   "id": "a9825df8-9b94-4d41-bdb2-20270ec8dd89",
   "metadata": {},
   "source": [
    "## Reclassifying Data in GIS Analysis\n",
    "\n",
    "Reclassifying data according to specific criteria plays a pivotal role in GIS analysis. This segment aims to demonstrate the process of reclassifying values based on predetermined criteria. \n",
    "\n",
    "\n",
    "### Tutorial Objectives\n",
    "\n",
    "In this tutorial, we will:\n",
    "\n",
    "- Utilize classification schemes from the [`PySAL mapclassify`](https://pysal.org/mapclassify/) library to categorize population counts in different classes.\n"
   ]
  },
  {
   "cell_type": "code",
   "execution_count": null,
   "id": "839dc4c5-b007-41ea-b88f-eefa1a1c858a",
   "metadata": {},
   "outputs": [],
   "source": [
    "import pathlib \n",
    "NOTEBOOK_PATH = pathlib.Path().resolve()\n",
    "DATA_DIRECTORY = NOTEBOOK_PATH / \"Data_L4\""
   ]
  },
  {
   "cell_type": "markdown",
   "id": "3ba90cbf-18b3-47cb-ba74-659d524774c0",
   "metadata": {},
   "source": [
    "Here we will use a population polygon grid from the statistical agency of Sweden at a 1 kilometer resolution for Värmland"
   ]
  },
  {
   "cell_type": "code",
   "execution_count": null,
   "id": "7a48800f-8a18-4fad-a61f-200cedbf2787",
   "metadata": {},
   "outputs": [],
   "source": [
    "import geopandas\n",
    "\n",
    "pop_1km = geopandas.read_file(\n",
    "    DATA_DIRECTORY\n",
    "    / \"pop_1km_clipped.gpkg\"\n",
    ")\n",
    "\n",
    "pop_1km.head()"
   ]
  },
  {
   "cell_type": "code",
   "execution_count": null,
   "id": "a98fae04-6c05-4fd2-a3f8-4a9ab56e2c71",
   "metadata": {},
   "outputs": [],
   "source": [
    "pop_1km.plot()"
   ]
  },
  {
   "cell_type": "markdown",
   "id": "656c8cbe-0abf-419a-a340-b251f75c717a",
   "metadata": {},
   "source": [
    "## Common Classifiers in Spatial Analysis\n",
    "\n",
    "### Classification Schemes for Thematic Maps\n",
    "\n",
    "The [PySAL](https://pysal.org/) module stands out as a comprehensive Python library dedicated to spatial analysis. It encompasses a wide array of common data classifiers, often utilized in data visualization tasks. The [mapclassify](https://github.com/pysal/mapclassify) module within `PySAL` provides access to the following classifiers:\n",
    "\n",
    "- **Box Plot**\n",
    "- **Equal Interval**\n",
    "- **Fisher Jenks**\n",
    "- **Fisher Jenks Sampled**\n",
    "- **HeadTail Breaks**\n",
    "- **Jenks Caspall**\n",
    "- **Jenks Caspall Forced**\n",
    "- **Jenks Caspall Sampled**\n",
    "- **Max P Classifier**\n",
    "- **Maximum Breaks**\n",
    "- **Natural Breaks**\n",
    "- **Quantiles**\n",
    "- **Percentiles**\n",
    "- **Std Mean**\n",
    "- **User Defined**\n",
    "\n",
    "Here we are interested in the POP column which not surprisingly, indicates population counts."
   ]
  },
  {
   "cell_type": "markdown",
   "id": "0f11fa67-c0f7-40e5-b6e0-4b360079fac1",
   "metadata": {},
   "source": [
    "Let’s plot the data and see how it looks like\n",
    "\n",
    "- cmap parameter defines the color map. Read more about choosing [colormaps](https://matplotlib.org/3.1.0/tutorials/colors/colormaps.html) in matplotlib\n",
    "\n",
    "- scheme option scales the colors according to a classification scheme (requires mapclassify module to be installed):"
   ]
  },
  {
   "cell_type": "code",
   "execution_count": null,
   "id": "b101a9cc-5a50-4387-8158-2bd2468caf06",
   "metadata": {},
   "outputs": [],
   "source": [
    "# Plot using 5 classes and classify the values using \"Natural Breaks\" classification\n",
    "pop_1km.plot(column=\"POP\", scheme=\"Natural_Breaks\", k=5, cmap=\"RdYlBu\", linewidth=1, legend=True)"
   ]
  },
  {
   "cell_type": "code",
   "execution_count": null,
   "id": "998b3bc4-457a-48b9-958f-3273ed85020a",
   "metadata": {},
   "outputs": [],
   "source": [
    "# Plot using 5 classes and classify the values using \"Quantiles\" classification\n",
    "pop_1km.plot(column=\"POP\", scheme=\"Quantiles\", k=5, cmap=\"RdYlBu\", linewidth=0, legend=True)"
   ]
  },
  {
   "cell_type": "markdown",
   "id": "315159d9-968a-4ebb-b4b7-4321480e646c",
   "metadata": {},
   "source": [
    "Population distributions can be hugely varying so often a log transform is applied to make them more easy to work with."
   ]
  },
  {
   "cell_type": "code",
   "execution_count": null,
   "id": "0c74745a-9f7e-4d5a-a807-04c2ea2d23b1",
   "metadata": {},
   "outputs": [],
   "source": [
    "# Logarithmic transformation with natural breaks\n",
    "import numpy as np\n",
    "pop_1km['POP_log'] = np.log1p(pop_1km['POP'])  \n",
    "pop_1km.plot(column=\"POP_log\", scheme=\"Natural_Breaks\", k=5, cmap=\"RdYlBu\", linewidth=0, edgecolor=\"gray\", legend=True)\n",
    "\n"
   ]
  },
  {
   "cell_type": "markdown",
   "id": "c7700fe9-010a-4a7d-8c22-91391ec5a027",
   "metadata": {},
   "source": [
    "### Applying classifiers to data\n",
    "As mentioned, the scheme option defines the classification scheme using pysal/mapclassify. Let’s have a closer look at how these classifiers work."
   ]
  },
  {
   "cell_type": "code",
   "execution_count": null,
   "id": "90658dd5-a2d4-4887-b0c3-9c259f0126eb",
   "metadata": {},
   "outputs": [],
   "source": [
    "import mapclassify"
   ]
  },
  {
   "cell_type": "code",
   "execution_count": null,
   "id": "5f5a1d04-d7d4-412d-a7e2-53e174554d08",
   "metadata": {},
   "outputs": [],
   "source": [
    "# Natural breaks\n",
    "mapclassify.NaturalBreaks(y=pop_1km[\"POP\"], k=6)\n"
   ]
  },
  {
   "cell_type": "code",
   "execution_count": null,
   "id": "33abbff6-7aaa-4855-9dec-d2ff3005a4c8",
   "metadata": {},
   "outputs": [],
   "source": [
    "# Quantiles\n",
    "mapclassify.Quantiles(y=pop_1km[\"POP\"],k=5)"
   ]
  },
  {
   "cell_type": "markdown",
   "id": "0197a393-eb17-4ae2-8926-cb4ee3fdd276",
   "metadata": {},
   "source": [
    "## Εxtract threshold values\n",
    "It’s possible to extract the threshold values into an array"
   ]
  },
  {
   "cell_type": "code",
   "execution_count": null,
   "id": "ceefdd1e-27b0-4e1e-a524-e1b5e2996f20",
   "metadata": {},
   "outputs": [],
   "source": [
    "classifier = mapclassify.NaturalBreaks(y=pop_1km[\"POP\"], k=6)\n",
    "classifier.bins"
   ]
  },
  {
   "cell_type": "markdown",
   "id": "1bc4e650-2f6e-4d4a-9abb-e940d2152f42",
   "metadata": {},
   "source": [
    "Let’s apply one of the Pysal classifiers into our data and classify population counts into 6 classes The classifier needs to be initialized first with make() function that takes the number of desired classes as input parameter"
   ]
  },
  {
   "cell_type": "code",
   "execution_count": null,
   "id": "be98a234-3db7-48c4-933e-46e13bf8944d",
   "metadata": {},
   "outputs": [],
   "source": [
    "# Create a Quantiles classifier\n",
    "classifier = mapclassify.Quantiles.make(k=5)"
   ]
  },
  {
   "cell_type": "code",
   "execution_count": null,
   "id": "11b98f4e-4ea3-45d1-a09d-3abee5881fde",
   "metadata": {},
   "outputs": [],
   "source": [
    "# Classify the data\n",
    "classifications = pop_1km[[\"POP\"]].apply(classifier)\n",
    "\n",
    "# Let's see what we have\n",
    "classifications.head()"
   ]
  },
  {
   "cell_type": "code",
   "execution_count": null,
   "id": "6cbdf14f-0bcb-4eea-b335-3ad6e8a5609b",
   "metadata": {},
   "outputs": [],
   "source": [
    "type(classifications)"
   ]
  },
  {
   "cell_type": "markdown",
   "id": "7e9dcba9-3270-4177-828a-510566772c92",
   "metadata": {},
   "source": [
    "We can also add the classification values directly into a new column in our dataframe:"
   ]
  },
  {
   "cell_type": "code",
   "execution_count": null,
   "id": "fb7dab66-e98d-4023-a420-a1c511e89932",
   "metadata": {},
   "outputs": [],
   "source": [
    "# Rename the column so that we know that it was classified with natural breaks\n",
    "pop_1km[\"nb_POP\"] = pop_1km[[\"POP\"]].apply(classifier)\n",
    "\n",
    "# Check the original values and classification\n",
    "pop_1km[[\"nb_POP\", \"POP\"]].head()"
   ]
  },
  {
   "cell_type": "markdown",
   "id": "82d038fa-dee1-4186-819b-5b1e6159acc6",
   "metadata": {},
   "source": [
    " Let’s visualize the results and see how they look."
   ]
  },
  {
   "cell_type": "code",
   "execution_count": null,
   "id": "c7a08a43-8adc-4b76-9ab6-73e713a0b7e1",
   "metadata": {},
   "outputs": [],
   "source": [
    "# Plot\n",
    "pop_1km.plot(column=\"nb_POP\", linewidth=0, legend=True)"
   ]
  },
  {
   "cell_type": "markdown",
   "id": "8320d558-b54e-4333-94db-62ae0150d63b",
   "metadata": {},
   "source": [
    "### Plotting a histogram\n",
    "A histogram is a graphic representation of the distribution of the data. When classifying the data, it’s always good to consider how the data is distributed, and how the classification shceme divides values into different ranges."
   ]
  },
  {
   "cell_type": "code",
   "execution_count": null,
   "id": "3bf38202-0776-400d-9743-082e6e4e86ab",
   "metadata": {},
   "outputs": [],
   "source": [
    "# Histogram for pop data\n",
    "pop_1km[\"POP\"].plot.hist(bins=10)"
   ]
  },
  {
   "cell_type": "code",
   "execution_count": null,
   "id": "8e5bcc8c-0ecd-4c50-b949-8d5a770d3a3d",
   "metadata": {},
   "outputs": [],
   "source": [
    "# Histogram for log pop data\n",
    "pop_1km[\"POP_log\"].plot.hist(bins=10)"
   ]
  },
  {
   "cell_type": "markdown",
   "id": "0ebb0514-3daf-4b7a-a266-5ec3325c789a",
   "metadata": {},
   "source": [
    "Let’s also add threshold values on top of the histogram as vertical lines.\n",
    "\n",
    "Natural Breaks using the log pop:"
   ]
  },
  {
   "cell_type": "code",
   "execution_count": null,
   "id": "21cb88c7-d042-42df-ae00-b41bc3c3a74a",
   "metadata": {},
   "outputs": [],
   "source": [
    "import matplotlib.pyplot as plt\n",
    "\n",
    "# Define classifier\n",
    "classifier = mapclassify.NaturalBreaks(y=pop_1km[\"POP_log\"], k=5)\n",
    "\n",
    "# Plot histogram \n",
    "pop_1km[\"POP_log\"].plot.hist(bins=50)\n",
    "\n",
    "# Add vertical lines for class breaks\n",
    "for break_point in classifier.bins:\n",
    "    plt.axvline(break_point, color=\"k\", linestyle=\"dashed\", linewidth=1)"
   ]
  },
  {
   "cell_type": "markdown",
   "id": "2b534ff9-107a-4275-adad-0873ad4d5efc",
   "metadata": {},
   "source": [
    "### Applying a custom classifier\n",
    "\n",
    "Sometimes we want to classify our data using our own specific criteria or methods (for instance unsupervised clustering with k-means or user defined scenarios). Let's see a simple example of that."
   ]
  },
  {
   "cell_type": "code",
   "execution_count": null,
   "id": "4351d012-ae8c-424a-92a4-d14df1f30359",
   "metadata": {},
   "outputs": [],
   "source": [
    "\n",
    "\n",
    "# Custom classifier function\n",
    "def classify_population(POP):\n",
    "    if POP < 50:\n",
    "        return 'Low'\n",
    "    elif 50 <= POP < 250:\n",
    "        return 'Medium'\n",
    "    else:\n",
    "        return 'High'\n",
    "\n",
    "# Apply the custom classifier \n",
    "pop_1km[\"POP_class\"] = pop_1km['POP'].apply(classify_population)\n",
    "\n",
    "# Display the modified GeoDataFrame\n",
    "print(pop_1km.head())\n"
   ]
  },
  {
   "cell_type": "markdown",
   "id": "c79d3a92-b82b-4332-8c13-f108b3a7eec7",
   "metadata": {},
   "source": [
    "Lets see how this worked out:"
   ]
  },
  {
   "cell_type": "code",
   "execution_count": null,
   "id": "0616c2a5-9aa2-44dd-80e9-e78f7c4820e3",
   "metadata": {},
   "outputs": [],
   "source": [
    "# Plot\n",
    "pop_1km.plot(column=\"POP_class\", linewidth=0)"
   ]
  },
  {
   "cell_type": "code",
   "execution_count": null,
   "id": "4e446f33-1cc2-4b30-a7fb-0250c32d5866",
   "metadata": {},
   "outputs": [],
   "source": []
  }
 ],
 "metadata": {
  "kernelspec": {
   "display_name": "Python (new_geopy_env)",
   "language": "python",
   "name": "new_geopy_env"
  },
  "language_info": {
   "codemirror_mode": {
    "name": "ipython",
    "version": 3
   },
   "file_extension": ".py",
   "mimetype": "text/x-python",
   "name": "python",
   "nbconvert_exporter": "python",
   "pygments_lexer": "ipython3",
   "version": "3.11.8"
  }
 },
 "nbformat": 4,
 "nbformat_minor": 5
}
