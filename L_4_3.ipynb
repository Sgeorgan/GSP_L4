{
 "cells": [
  {
   "cell_type": "markdown",
   "id": "635d0d84-347c-44e7-9b7a-4176e72d9570",
   "metadata": {},
   "source": [
    "## Simplifying Geometries\n",
    "\n",
    "In many scenarios, particularly when dealing with highly detailed spatial features that span across large areas, it becomes practical to simplify these geometries. This approach is useful because, on a global scale map, the minute details of these features are not discernible. Additionally, rendering a vast number of detailed features on a map can be time-consuming. To address these issues, we can simplify geometric features in Python, enhancing both the visualization and performance of our spatial analysis.\n",
    "\n",
    "### Example: Simplifying River Network Geometries\n",
    "\n",
    "Consider, for example, the river network within a specific region of Sweden. To illustrate the concept of geometry simplification, we will:\n",
    "\n",
    "1. Load the river network data.\n",
    "2. Observe the initial detailed geometry of the river.\n"
   ]
  },
  {
   "cell_type": "code",
   "execution_count": null,
   "id": "384a4ec1-9a89-445e-a328-f882f6706b3e",
   "metadata": {},
   "outputs": [],
   "source": [
    "import pathlib \n",
    "NOTEBOOK_PATH = pathlib.Path().resolve()\n",
    "DATA_DIRECTORY = NOTEBOOK_PATH / \"Data_L4\""
   ]
  },
  {
   "cell_type": "code",
   "execution_count": null,
   "id": "cace3497-b2a4-4dd5-9877-eee2a7c139d0",
   "metadata": {},
   "outputs": [],
   "source": [
    "import geopandas\n",
    "\n",
    "river_sweden = geopandas.read_file(\n",
    "    DATA_DIRECTORY\n",
    "    / \"river_sweden.shp\"\n",
    ")\n",
    "\n",
    "river_sweden.head()"
   ]
  },
  {
   "cell_type": "code",
   "execution_count": null,
   "id": "ffddf621-bb5c-47f5-a438-29f070fb9117",
   "metadata": {},
   "outputs": [],
   "source": [
    "river_sweden.plot()"
   ]
  },
  {
   "cell_type": "code",
   "execution_count": null,
   "id": "f03e42ce-87f8-43cd-864e-023ff8f80f3c",
   "metadata": {},
   "outputs": [],
   "source": [
    "river_sweden.crs"
   ]
  },
  {
   "cell_type": "markdown",
   "id": "6d27ebc9-16d3-43dd-8880-cca62dcab74d",
   "metadata": {},
   "source": [
    "## Generalizing LineStrings\n",
    "\n",
    "The `LineString` geometry we're examining is notably detailed. To make this data more manageable and to improve the efficiency of our map visualizations, we can generalize these geometries. It's important to note that our data uses the SWEREF99 projection with meters as the unit of measurement.\n",
    "\n",
    "### Simplification Process\n",
    "\n",
    "We can achieve simplification using the `.simplify()` function from Shapely. The `tolerance` parameter within this function determines the degree of generalization. The value of `tolerance` is dependent on the coordinate system of the geometries, which, in this context, is set to 500 meters. This simplification process effectively reduces the complexity of the geometries, making them more suitable for broad-scale map representations.\n"
   ]
  },
  {
   "cell_type": "code",
   "execution_count": null,
   "id": "0eb60f7e-8e53-484f-bc06-c026b2164e8e",
   "metadata": {},
   "outputs": [],
   "source": [
    "# Generalize geometry\n",
    "river_sweden['simplegeom'] = river_sweden.simplify(tolerance=500)\n",
    "\n",
    "# Set geometry to be our new simlified geometry\n",
    "river_sweden = river_sweden.set_geometry('simplegeom')\n",
    "\n",
    "# Plot \n",
    "river_sweden.plot()"
   ]
  },
  {
   "cell_type": "code",
   "execution_count": null,
   "id": "569f9800-3a82-4ceb-9a87-ebe26ab07c08",
   "metadata": {},
   "outputs": [],
   "source": []
  },
  {
   "cell_type": "code",
   "execution_count": null,
   "id": "e9783673-e14b-449b-9e7a-3f55b9cc633a",
   "metadata": {},
   "outputs": [],
   "source": []
  }
 ],
 "metadata": {
  "kernelspec": {
   "display_name": "Python (new_geopy_env)",
   "language": "python",
   "name": "new_geopy_env"
  },
  "language_info": {
   "codemirror_mode": {
    "name": "ipython",
    "version": 3
   },
   "file_extension": ".py",
   "mimetype": "text/x-python",
   "name": "python",
   "nbconvert_exporter": "python",
   "pygments_lexer": "ipython3",
   "version": "3.11.8"
  }
 },
 "nbformat": 4,
 "nbformat_minor": 5
}
