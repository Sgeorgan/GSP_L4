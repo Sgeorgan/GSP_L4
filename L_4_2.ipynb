{
 "cells": [
  {
   "cell_type": "markdown",
   "id": "a6c06ec0-a070-4c6a-b949-310be2c89f34",
   "metadata": {},
   "source": [
    "# Aggregating data\n",
    "\n",
    "Data aggregation refers to a process where we combine data into groups. When doing spatial data aggregation, we merge the geometries together into coarser units (based on some attribute), and can also calculate summary statistics for these combined geometries from the original, more detailed values. For example, suppose that we are interested in studying continents, but we only have country-level data like the country dataset. If we aggregate the data by continent, we would convert the country-level data into a continent-level dataset.\n",
    "\n",
    "In this tutorial, we will aggregate our travel time data by land use class, i.e., the polygons cells that have the same land use class in the flooded areas will be merged.\n",
    "\n",
    "Let's start with loading `intersection.shp`, the output file of the previous section:\n"
   ]
  },
  {
   "cell_type": "code",
   "execution_count": null,
   "id": "b120fa3b-3fb0-47f3-b386-d6b06e4776f7",
   "metadata": {},
   "outputs": [],
   "source": [
    "import pathlib \n",
    "NOTEBOOK_PATH = pathlib.Path().resolve()\n",
    "DATA_DIRECTORY = NOTEBOOK_PATH / \"Data_L4\""
   ]
  },
  {
   "cell_type": "code",
   "execution_count": null,
   "id": "84d16adc-849e-4613-8151-ead9b6022311",
   "metadata": {},
   "outputs": [],
   "source": [
    "import geopandas\n",
    "\n",
    "intersection = geopandas.read_file(\n",
    "    DATA_DIRECTORY\n",
    "    / \"intersection.shp\"\n",
    ")\n",
    "\n"
   ]
  },
  {
   "cell_type": "code",
   "execution_count": null,
   "id": "5a6da7e6-4179-4976-9cb7-e7f949a88f3b",
   "metadata": {},
   "outputs": [],
   "source": [
    "intersection.plot(column='KATEGORI')"
   ]
  },
  {
   "cell_type": "code",
   "execution_count": null,
   "id": "6f4e94cc-d133-4378-877c-9f0f00ee447b",
   "metadata": {},
   "outputs": [],
   "source": [
    "intersection"
   ]
  },
  {
   "cell_type": "code",
   "execution_count": null,
   "id": "35934e23-79f7-44d0-bff2-70fae61cb182",
   "metadata": {},
   "outputs": [],
   "source": [
    "\n",
    "\n",
    "# Dissolve polygons by 'KATEGORI', aggregating their geometries\n",
    "dissolved = intersection.dissolve(by='KATEGORI')\n",
    "\n",
    "# Calculate the area of the dissolved geometries\n",
    "dissolved['dissolved_area'] = dissolved.geometry.area\n",
    "\n",
    "print(dissolved['dissolved_area'])\n"
   ]
  },
  {
   "cell_type": "code",
   "execution_count": null,
   "id": "aa3677d6-85e5-4532-b504-44b676da198e",
   "metadata": {},
   "outputs": [],
   "source": [
    "print(f\"Rows in original intersection GeoDataFrame: {len(intersection)}\")\n",
    "print(f\"Rows in dissolved layer: {len(dissolved)}\")"
   ]
  },
  {
   "cell_type": "code",
   "execution_count": null,
   "id": "8269c165-b507-498a-be29-1fa0439c1ba3",
   "metadata": {},
   "outputs": [],
   "source": [
    "dissolved"
   ]
  },
  {
   "cell_type": "code",
   "execution_count": null,
   "id": "bd4509f3-b6d4-42bf-a8fe-b57cc9319a31",
   "metadata": {},
   "outputs": [],
   "source": [
    "dissolved.plot()"
   ]
  },
  {
   "cell_type": "markdown",
   "id": "b7fd746f-afd1-4ec1-a789-0c6a218e0524",
   "metadata": {},
   "source": [
    "Let’s see what columns we have now in our GeoDataFrame:"
   ]
  },
  {
   "cell_type": "code",
   "execution_count": null,
   "id": "a146e07a-48ba-452d-afbb-085b759e7a5f",
   "metadata": {},
   "outputs": [],
   "source": [
    "dissolved.columns"
   ]
  },
  {
   "cell_type": "markdown",
   "id": "a6548f60-3a1a-40c8-9973-06b120d5ed02",
   "metadata": {},
   "source": [
    "As we can see, the column that we used for conducting the aggregation (CATEGORI) can not be found from the columns list anymore. What happened to it?"
   ]
  },
  {
   "cell_type": "code",
   "execution_count": null,
   "id": "2628107d-07fb-4153-b418-f56b4ecb87c6",
   "metadata": {},
   "outputs": [],
   "source": [
    "dissolved.index"
   ]
  },
  {
   "cell_type": "markdown",
   "id": "ca6ad46f-9da6-4927-a0c7-55b1421d5dc6",
   "metadata": {},
   "source": [
    "It is now used as index in our dissolved GeoDataFrame!"
   ]
  },
  {
   "cell_type": "code",
   "execution_count": null,
   "id": "acd5ddfb-471b-421a-8408-be4240d61e98",
   "metadata": {},
   "outputs": [],
   "source": [
    "dissolved"
   ]
  },
  {
   "cell_type": "code",
   "execution_count": null,
   "id": "dc9e1da7-d254-4ed2-af0d-b9b4d25e41b5",
   "metadata": {},
   "outputs": [],
   "source": [
    "# Select only geometries that are for class tatorter\n",
    "\n",
    "Tätort_class = dissolved.loc['Tätort']\n",
    "Tätort_class"
   ]
  },
  {
   "cell_type": "code",
   "execution_count": null,
   "id": "fed004ec-cea4-4885-834d-66f91dca89f0",
   "metadata": {},
   "outputs": [],
   "source": [
    "# See the data type\n",
    "type(Tätort_class)"
   ]
  },
  {
   "cell_type": "code",
   "execution_count": null,
   "id": "90733f18-b7dc-4d56-b81e-59421a054f02",
   "metadata": {},
   "outputs": [],
   "source": [
    "# See the data\n",
    "Tätort_class.head()"
   ]
  },
  {
   "cell_type": "markdown",
   "id": "762c9fb1-929a-4b9f-a99a-a2a158bd55da",
   "metadata": {},
   "source": [
    "Let’s also visualize areas only for the class urban (tätort).\n",
    "\n",
    "First, we need to convert the selected row back to a GeoDataFrame:"
   ]
  },
  {
   "cell_type": "code",
   "execution_count": null,
   "id": "1d3b21b8-09b3-44d1-839b-bc51b1cb4748",
   "metadata": {},
   "outputs": [],
   "source": [
    "# Create a GeoDataFrame\n",
    "selection = geopandas.GeoDataFrame([Tätort_class], crs=dissolved.crs)"
   ]
  },
  {
   "cell_type": "code",
   "execution_count": null,
   "id": "9a780453-0ca0-456b-8f5b-f38b1ef92f28",
   "metadata": {},
   "outputs": [],
   "source": [
    "# visualise residential areas that are flooded in the case study\n",
    "ax = dissolved.plot(facecolor=\"gray\")\n",
    "selection.plot(ax=ax, facecolor=\"red\")"
   ]
  },
  {
   "cell_type": "markdown",
   "id": "54c0eea8-bc50-435b-bc4b-56c360b2eebd",
   "metadata": {},
   "source": [
    "Another way to visualize the class urban in the entire GeoDataFrame is to plot using one specific column. In order to use our KATEGORI column, which is now the index of the GeoDataFrame, we need to reset the index:"
   ]
  },
  {
   "cell_type": "code",
   "execution_count": null,
   "id": "293cf107-4464-4d04-b93c-2dd4ebb0e3cf",
   "metadata": {},
   "outputs": [],
   "source": [
    "dissolved = dissolved.reset_index()\n",
    "dissolved.head()"
   ]
  },
  {
   "cell_type": "code",
   "execution_count": null,
   "id": "c313f1fa-5cd6-4479-9bc5-bd63cbcbb804",
   "metadata": {},
   "outputs": [],
   "source": [
    "dissolved.plot(column=\"KATEGORI\")"
   ]
  },
  {
   "cell_type": "code",
   "execution_count": null,
   "id": "b7e40164-fc15-4e91-ba06-1f4365fd67b3",
   "metadata": {},
   "outputs": [],
   "source": []
  }
 ],
 "metadata": {
  "kernelspec": {
   "display_name": "Python (new_geopy_env)",
   "language": "python",
   "name": "new_geopy_env"
  },
  "language_info": {
   "codemirror_mode": {
    "name": "ipython",
    "version": 3
   },
   "file_extension": ".py",
   "mimetype": "text/x-python",
   "name": "python",
   "nbconvert_exporter": "python",
   "pygments_lexer": "ipython3",
   "version": "3.11.8"
  }
 },
 "nbformat": 4,
 "nbformat_minor": 5
}
